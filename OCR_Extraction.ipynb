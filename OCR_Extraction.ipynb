{
  "nbformat": 4,
  "nbformat_minor": 0,
  "metadata": {
    "colab": {
      "provenance": [],
      "gpuType": "V28",
      "mount_file_id": "1_qo9Dw0Usl7XgW5BBSJ_R1xwOpZiReBK",
      "authorship_tag": "ABX9TyNAzoTbYcnRBFdPqoN1VP4a",
      "include_colab_link": true
    },
    "kernelspec": {
      "name": "python3",
      "display_name": "Python 3"
    },
    "language_info": {
      "name": "python"
    },
    "accelerator": "TPU"
  },
  "cells": [
    {
      "cell_type": "markdown",
      "metadata": {
        "id": "view-in-github",
        "colab_type": "text"
      },
      "source": [
        "<a href=\"https://colab.research.google.com/github/AKDW26/Invoice-Extraction/blob/main/OCR_Extraction.ipynb\" target=\"_parent\"><img src=\"https://colab.research.google.com/assets/colab-badge.svg\" alt=\"Open In Colab\"/></a>"
      ]
    },
    {
      "cell_type": "code",
      "execution_count": 1,
      "metadata": {
        "id": "J4WMFPprvlr4",
        "colab": {
          "base_uri": "https://localhost:8080/"
        },
        "outputId": "e582f55c-5fcf-43d6-8cfd-5723f623fb87"
      },
      "outputs": [
        {
          "output_type": "stream",
          "name": "stdout",
          "text": [
            "Collecting pytesseract\n",
            "  Downloading pytesseract-0.3.13-py3-none-any.whl.metadata (11 kB)\n",
            "Requirement already satisfied: pillow in /usr/local/lib/python3.11/dist-packages (11.3.0)\n",
            "Requirement already satisfied: kaggle in /usr/local/lib/python3.11/dist-packages (1.7.4.5)\n",
            "Requirement already satisfied: packaging>=21.3 in /usr/local/lib/python3.11/dist-packages (from pytesseract) (25.0)\n",
            "Requirement already satisfied: bleach in /usr/local/lib/python3.11/dist-packages (from kaggle) (6.2.0)\n",
            "Requirement already satisfied: certifi>=14.05.14 in /usr/local/lib/python3.11/dist-packages (from kaggle) (2025.7.14)\n",
            "Requirement already satisfied: charset-normalizer in /usr/local/lib/python3.11/dist-packages (from kaggle) (3.4.2)\n",
            "Requirement already satisfied: idna in /usr/local/lib/python3.11/dist-packages (from kaggle) (3.10)\n",
            "Requirement already satisfied: protobuf in /usr/local/lib/python3.11/dist-packages (from kaggle) (5.29.5)\n",
            "Requirement already satisfied: python-dateutil>=2.5.3 in /usr/local/lib/python3.11/dist-packages (from kaggle) (2.9.0.post0)\n",
            "Requirement already satisfied: python-slugify in /usr/local/lib/python3.11/dist-packages (from kaggle) (8.0.4)\n",
            "Requirement already satisfied: requests in /usr/local/lib/python3.11/dist-packages (from kaggle) (2.32.3)\n",
            "Requirement already satisfied: setuptools>=21.0.0 in /usr/local/lib/python3.11/dist-packages (from kaggle) (75.2.0)\n",
            "Requirement already satisfied: six>=1.10 in /usr/local/lib/python3.11/dist-packages (from kaggle) (1.17.0)\n",
            "Requirement already satisfied: text-unidecode in /usr/local/lib/python3.11/dist-packages (from kaggle) (1.3)\n",
            "Requirement already satisfied: tqdm in /usr/local/lib/python3.11/dist-packages (from kaggle) (4.67.1)\n",
            "Requirement already satisfied: urllib3>=1.15.1 in /usr/local/lib/python3.11/dist-packages (from kaggle) (2.5.0)\n",
            "Requirement already satisfied: webencodings in /usr/local/lib/python3.11/dist-packages (from kaggle) (0.5.1)\n",
            "Downloading pytesseract-0.3.13-py3-none-any.whl (14 kB)\n",
            "Installing collected packages: pytesseract\n",
            "Successfully installed pytesseract-0.3.13\n"
          ]
        }
      ],
      "source": [
        "pip install pytesseract pillow kaggle"
      ]
    },
    {
      "cell_type": "code",
      "source": [
        "pip install PyMuPDF"
      ],
      "metadata": {
        "colab": {
          "base_uri": "https://localhost:8080/"
        },
        "id": "gwg11UX9SGMR",
        "outputId": "dff382dc-f6ad-440a-af6f-ad9666a080a2"
      },
      "execution_count": 2,
      "outputs": [
        {
          "output_type": "stream",
          "name": "stdout",
          "text": [
            "Collecting PyMuPDF\n",
            "  Downloading pymupdf-1.26.3-cp39-abi3-manylinux_2_28_x86_64.whl.metadata (3.4 kB)\n",
            "Downloading pymupdf-1.26.3-cp39-abi3-manylinux_2_28_x86_64.whl (24.1 MB)\n",
            "\u001b[2K   \u001b[90m━━━━━━━━━━━━━━━━━━━━━━━━━━━━━━━━━━━━━━━━\u001b[0m \u001b[32m24.1/24.1 MB\u001b[0m \u001b[31m58.9 MB/s\u001b[0m eta \u001b[36m0:00:00\u001b[0m\n",
            "\u001b[?25hInstalling collected packages: PyMuPDF\n",
            "Successfully installed PyMuPDF-1.26.3\n"
          ]
        }
      ]
    },
    {
      "cell_type": "code",
      "source": [
        "import pytesseract\n",
        "import re\n",
        "import os\n",
        "import json\n",
        "from PIL import Image\n",
        "from pathlib import Path"
      ],
      "metadata": {
        "id": "NoiXSPZnA8Fo"
      },
      "execution_count": 3,
      "outputs": []
    },
    {
      "cell_type": "code",
      "source": [
        "# Setup Kaggle credentials\n",
        "def setup_kaggle():\n",
        "    # Create kaggle directory\n",
        "    kaggle_dir = Path.home() / '.kaggle'\n",
        "    kaggle_dir.mkdir(exist_ok=True)\n",
        "\n",
        "    # Create kaggle.json file\n",
        "    credentials = {\n",
        "        \"username\": \"akshaydwivedi26\",\n",
        "        \"key\": \"c82930f8e47af96095e0257c1140d5c6\"\n",
        "    }\n",
        "\n",
        "    kaggle_file = kaggle_dir / 'kaggle.json'\n",
        "    with open(kaggle_file, 'w') as f:\n",
        "        json.dump(credentials, f)\n",
        "\n",
        "    # Set permissions\n",
        "    os.chmod(kaggle_file, 0o600)\n",
        "\n",
        "    # Set environment variables\n",
        "    os.environ['KAGGLE_USERNAME'] = \"akshaydwivedi26\"\n",
        "    os.environ['KAGGLE_KEY'] = \"97593a000178282942181065d850ef46\"\n",
        "\n",
        "    print(\"Kaggle setup complete!\")"
      ],
      "metadata": {
        "id": "tSXCNuUMAzCm"
      },
      "execution_count": 4,
      "outputs": []
    },
    {
      "cell_type": "code",
      "source": [
        "# Download dataset\n",
        "def get_data():\n",
        "    setup_kaggle()\n",
        "    import kaggle\n",
        "\n",
        "    try:\n",
        "        kaggle.api.dataset_download_files('urbikn/sroie-datasetv2', path='./data', unzip=True)\n",
        "        print(\"Data downloaded!\")\n",
        "    except Exception as e:\n",
        "        print(f\"Download failed: {e}\")\n",
        "        print(\"You can manually download from: https://www.kaggle.com/datasets/urbikn/sroie-datasetv2\")"
      ],
      "metadata": {
        "id": "dDYcQkkPA4fI"
      },
      "execution_count": 5,
      "outputs": []
    },
    {
      "cell_type": "code",
      "metadata": {
        "id": "b4986d44"
      },
      "source": [
        "# Extract text from image\n",
        "def get_text(image_path):\n",
        "    img = Image.open(image_path)\n",
        "    text = pytesseract.image_to_string(img)\n",
        "    return text"
      ],
      "execution_count": 6,
      "outputs": []
    },
    {
      "cell_type": "code",
      "source": [
        "# find invoice number\n",
        "def find_invoice_number(text):\n",
        "    patterns = [r'invoice.*?(\\d+)', r'inv.*?(\\d+)', r'#(\\d+)']\n",
        "    for pattern in patterns:\n",
        "        match = re.search(pattern, text.lower())\n",
        "        if match:\n",
        "            return match.group(1)\n",
        "    return \"Not found\""
      ],
      "metadata": {
        "id": "KRFZWNL-CXP3"
      },
      "execution_count": 7,
      "outputs": []
    },
    {
      "cell_type": "code",
      "source": [
        "# Find date\n",
        "def find_date(text):\n",
        "    pattern = r'(\\d{1,2}[/-]\\d{1,2}[/-]\\d{2,4})'\n",
        "    match = re.search(pattern, text)\n",
        "    if match:\n",
        "        return match.group(1)\n",
        "    return \"Not found\""
      ],
      "metadata": {
        "id": "TUeMR2rFCbe7"
      },
      "execution_count": 8,
      "outputs": []
    },
    {
      "cell_type": "code",
      "source": [
        "# Find total amount\n",
        "def find_total(text):\n",
        "    patterns = [r'total.*?(\\d+\\.?\\d*)', r'\\$(\\d+\\.?\\d*)']\n",
        "    for pattern in patterns:\n",
        "        match = re.search(pattern, text.lower())\n",
        "        if match:\n",
        "            return match.group(1)\n",
        "    return \"Not found\""
      ],
      "metadata": {
        "id": "UfFxM3pdCfRe"
      },
      "execution_count": 9,
      "outputs": []
    },
    {
      "cell_type": "code",
      "source": [
        "# Main extraction function\n",
        "def extract_invoice_data(image_path):\n",
        "    # Get text from image\n",
        "    text = get_text(image_path)\n",
        "\n",
        "    # Extract fields\n",
        "    result = {\n",
        "        'invoice_number': find_invoice_number(text),\n",
        "        'date': find_date(text),\n",
        "        'total': find_total(text),\n",
        "        'line_items': find_line_items(text),  # NEW: Line items\n",
        "        'full_text': text[:200] + \"...\" if len(text) > 200 else text\n",
        "    }\n",
        "\n",
        "    return result"
      ],
      "metadata": {
        "id": "tISMSd0oCiXW"
      },
      "execution_count": 10,
      "outputs": []
    },
    {
      "cell_type": "code",
      "source": [
        "# Extract line items\n",
        "def find_line_items(text):\n",
        "    lines = text.split('\\n')\n",
        "    line_items = []\n",
        "\n",
        "    for line in lines:\n",
        "        line = line.strip()\n",
        "        if not line:\n",
        "            continue\n",
        "\n",
        "        # Pattern 1: Item Qty Price Total\n",
        "        match1 = re.search(r'([A-Za-z\\s]+)\\s+(\\d+)\\s+(\\d+\\.?\\d*)\\s+(\\d+\\.?\\d*)', line)\n",
        "        # Pattern 2: Item $Price x Qty = $Total\n",
        "        match2 = re.search(r'([A-Za-z\\s]+)\\s+\\$(\\d+\\.?\\d*)\\s+x\\s+(\\d+)\\s+=\\s+\\$(\\d+\\.?\\d*)', line)\n",
        "\n",
        "        if match1:\n",
        "            line_items.append({\n",
        "                'item': match1.group(1).strip(),\n",
        "                'qty': match1.group(2),\n",
        "                'price': match1.group(3),\n",
        "                'total': match1.group(4)\n",
        "            })\n",
        "        elif match2:\n",
        "            line_items.append({\n",
        "                'item': match2.group(1).strip(),\n",
        "                'qty': match2.group(3),\n",
        "                'price': match2.group(2),\n",
        "                'total': match2.group(4)\n",
        "            })\n",
        "\n",
        "    return line_items"
      ],
      "metadata": {
        "id": "8omhFsjZTZD8"
      },
      "execution_count": 11,
      "outputs": []
    },
    {
      "cell_type": "code",
      "source": [
        "# Convert PDF to images\n",
        "def pdf_to_images(pdf_path):\n",
        "    try:\n",
        "        import fitz  # PyMuPDF\n",
        "        doc = fitz.open(pdf_path)\n",
        "        images = []\n",
        "\n",
        "        for page_num in range(len(doc)):\n",
        "            page = doc[page_num]\n",
        "            pix = page.get_pixmap()\n",
        "            img_path = f\"page_{page_num + 1}.png\"\n",
        "            pix.save(img_path)\n",
        "            images.append(img_path)\n",
        "\n",
        "        doc.close()\n",
        "        print(f\"Converted PDF to {len(images)} images\")\n",
        "        return images\n",
        "    except:\n",
        "        print(\"Install PyMuPDF: pip install PyMuPDF\")\n",
        "        return []"
      ],
      "metadata": {
        "id": "COHFLuexCk5j"
      },
      "execution_count": 12,
      "outputs": []
    },
    {
      "cell_type": "code",
      "source": [
        "# Add custom field extraction\n",
        "def add_custom_field(text, field_name, pattern):\n",
        "    match = re.search(pattern, text.lower())\n",
        "    if match:\n",
        "        return match.group(1)\n",
        "    return \"Not found\""
      ],
      "metadata": {
        "id": "jzYIEB5zTmU0"
      },
      "execution_count": 13,
      "outputs": []
    },
    {
      "cell_type": "code",
      "source": [
        "# Train model (simple pattern learning)\n",
        "def train_model(training_data):\n",
        "    \"\"\"\n",
        "    Training data format: [{'text': '...', 'labels': {'field': 'value'}}]\n",
        "    This learns new patterns from training examples\n",
        "    \"\"\"\n",
        "    learned_patterns = {}\n",
        "\n",
        "    for example in training_data:\n",
        "        text = example['text']\n",
        "        labels = example['labels']\n",
        "\n",
        "        for field, value in labels.items():\n",
        "            if field not in learned_patterns:\n",
        "                learned_patterns[field] = []\n",
        "\n",
        "            # Find where the value appears in text and create pattern\n",
        "            if value in text.lower():\n",
        "                # Simple pattern learning - find words before the value\n",
        "                words_before = text.lower().split(value.lower())[0].split()\n",
        "                if words_before:\n",
        "                    pattern = f\"{words_before[-1]}.*?([a-z0-9\\s]+)\"\n",
        "                    learned_patterns[field].append(pattern)\n",
        "\n",
        "    return learned_patterns"
      ],
      "metadata": {
        "id": "pSn5ZgbqUmA5"
      },
      "execution_count": 14,
      "outputs": []
    },
    {
      "cell_type": "code",
      "source": [
        "# Use trained patterns\n",
        "def extract_with_trained_model(text, learned_patterns):\n",
        "    results = {}\n",
        "    for field, patterns in learned_patterns.items():\n",
        "        for pattern in patterns:\n",
        "            match = re.search(pattern, text.lower())\n",
        "            if match:\n",
        "                results[field] = match.group(1).strip()\n",
        "                break\n",
        "        if field not in results:\n",
        "            results[field] = \"Not found\"\n",
        "\n",
        "    return results"
      ],
      "metadata": {
        "id": "7EDpjJW9Usdy"
      },
      "execution_count": 15,
      "outputs": []
    },
    {
      "cell_type": "code",
      "source": [
        "# Example usage:\n",
        "if __name__ == \"__main__\":\n",
        "    # Download data\n",
        "    get_data()\n",
        "\n",
        "    # Test with an image\n",
        "    image_path = \"/content/data/SROIE2019/test/img/X51005200931.jpg\"\n",
        "\n",
        "    # Extract basic fields\n",
        "    data = extract_invoice_data(image_path)\n",
        "    print(\"Extracted Data:\", data)\n",
        "\n",
        "    # Add custom field (example: company name)\n",
        "    text = get_text(image_path)\n",
        "    company = add_custom_field(text, \"company\", r'company.*?([a-z\\s]+)')\n",
        "    print(\"Company:\", company)"
      ],
      "metadata": {
        "colab": {
          "base_uri": "https://localhost:8080/"
        },
        "id": "p9JV0TYvCoUo",
        "outputId": "0880b141-2aee-4607-e1ee-b79100587e2f"
      },
      "execution_count": 17,
      "outputs": [
        {
          "output_type": "stream",
          "name": "stdout",
          "text": [
            "Kaggle setup complete!\n",
            "Dataset URL: https://www.kaggle.com/datasets/urbikn/sroie-datasetv2\n",
            "Data downloaded!\n",
            "Extracted Data: {'invoice_number': 'Not found', 'date': '09/02/2078', 'total': '411.50', 'line_items': [{'item': 'GA', 'qty': '4', 'price': '85.00', 'total': '6.00'}, {'item': 'Ge', 'qty': '4', 'price': '1900', 'total': '4'}], 'full_text': ' \\n\\nPERNIAGAAN ZHENG HU!\\nJMOs25956-V\\nNO.8@ JALAN PERMAS 9/6\\nBANDAR BARU PERMAS JAYA\\n81780 JOHOR BAHRU\\nTEL: 07-386 7524 FAX : 07-388 3798\\nGST NO : DoNROOBGa24\\n\\nSIMPLIFIED TAX INVOICE\\n\\n \\n\\n  \\n\\n \\n\\nSalesper...'}\n",
            "Company: Not found\n"
          ]
        }
      ]
    },
    {
      "cell_type": "code",
      "source": [],
      "metadata": {
        "id": "47GyCbgCCsxo"
      },
      "execution_count": null,
      "outputs": []
    }
  ]
}